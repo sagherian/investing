{
 "cells": [
  {
   "cell_type": "code",
   "execution_count": 3,
   "id": "e2db38be",
   "metadata": {},
   "outputs": [
    {
     "name": "stderr",
     "output_type": "stream",
     "text": [
      "C:\\Users\\saris\\AppData\\Local\\Temp\\ipykernel_6120\\2857876074.py:7: FutureWarning: YF.download() has changed argument auto_adjust default to True\n",
      "  df = yf.download(stock, period='6mo', progress=False)\n"
     ]
    },
    {
     "ename": "NameError",
     "evalue": "name 'run_simulation' is not defined",
     "output_type": "error",
     "traceback": [
      "\u001b[1;31m---------------------------------------------------------------------------\u001b[0m",
      "\u001b[1;31mNameError\u001b[0m                                 Traceback (most recent call last)",
      "Cell \u001b[1;32mIn[3], line 15\u001b[0m\n\u001b[0;32m     13\u001b[0m results \u001b[38;5;241m=\u001b[39m {}\n\u001b[0;32m     14\u001b[0m \u001b[38;5;28;01mfor\u001b[39;00m k \u001b[38;5;129;01min\u001b[39;00m k_values:\n\u001b[1;32m---> 15\u001b[0m     history \u001b[38;5;241m=\u001b[39m \u001b[43mrun_simulation\u001b[49m(price_series, k, transformer, seq_length\u001b[38;5;241m=\u001b[39m\u001b[38;5;241m20\u001b[39m)\n\u001b[0;32m     16\u001b[0m     results[k] \u001b[38;5;241m=\u001b[39m history\n\u001b[0;32m     18\u001b[0m \u001b[38;5;66;03m# Plot\u001b[39;00m\n",
      "\u001b[1;31mNameError\u001b[0m: name 'run_simulation' is not defined"
     ]
    }
   ],
   "source": [
    "import yfinance as yf\n",
    "# from src.simulate import run_simulation\n",
    "import matplotlib.pyplot as plt\n",
    "\n",
    "# Download data\n",
    "stock = 'COIN'\n",
    "df = yf.download(stock, period='6mo', progress=False)\n",
    "price_series = df['Close'].dropna().reset_index(drop=True)\n",
    "\n",
    "# (Assume transformer is trained and available as 'transformer')\n",
    "# Try different k values\n",
    "k_values = [0.01, 0.1, 0.5, 1.0]\n",
    "results = {}\n",
    "for k in k_values:\n",
    "    history = run_simulation(price_series, k, transformer, seq_length=20)\n",
    "    results[k] = history\n",
    "\n",
    "# Plot\n",
    "plt.figure(figsize=(10, 5))\n",
    "for k, history in results.items():\n",
    "    plt.plot(history['t'], history['portfolio_value'], label=f'k={k}')\n",
    "plt.xlabel('Time')\n",
    "plt.ylabel('Portfolio Value')\n",
    "plt.title('Portfolio Value for Different Hyperbolic Discounting (k) Values')\n",
    "plt.legend()\n",
    "plt.show()"
   ]
  }
 ],
 "metadata": {
  "kernelspec": {
   "display_name": "quant",
   "language": "python",
   "name": "python3"
  },
  "language_info": {
   "codemirror_mode": {
    "name": "ipython",
    "version": 3
   },
   "file_extension": ".py",
   "mimetype": "text/x-python",
   "name": "python",
   "nbconvert_exporter": "python",
   "pygments_lexer": "ipython3",
   "version": "3.9.23"
  }
 },
 "nbformat": 4,
 "nbformat_minor": 5
}
