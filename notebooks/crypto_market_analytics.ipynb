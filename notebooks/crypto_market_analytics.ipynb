{
 "cells": [
  {
   "cell_type": "markdown",
   "id": "4e1043de",
   "metadata": {},
   "source": [
    "# Professional Crypto Market Analytics\n",
    "\n",
    "This notebook delivers a comprehensive, institutional-grade analysis of the top cryptocurrencies, including Sharpe ratios, price vs. all-time high, dominance metrics, functional groupings, and advanced visualizations. All code is modular and ready for due diligence."
   ]
  },
  {
   "cell_type": "markdown",
   "id": "44b28863",
   "metadata": {},
   "source": [
    "## Table of Contents\n",
    "1. Introduction & Methodology\n",
    "2. Data Import & Ticker Groupings\n",
    "3. Risk/Return Analysis (Sharpe Ratios)\n",
    "4. Price vs. All-Time High (ATH)\n",
    "5. Dominance Metrics (BTC, ETH, etc.)\n",
    "6. Functional Group Analysis (Layer 1s, DeFi, AI, etc.)\n",
    "7. Advanced Visualizations\n",
    "8. Insights & Recommendations"
   ]
  },
  {
   "cell_type": "markdown",
   "id": "453a3c40",
   "metadata": {},
   "source": [
    "## 1. Introduction & Methodology\n",
    "\n",
    "This notebook analyzes the top cryptocurrencies by market cap and function, using professional risk/return metrics, dominance calculations, and group-based analytics. All code is modular and ready for institutional review."
   ]
  },
  {
   "cell_type": "code",
   "execution_count": null,
   "id": "b16b9c2e",
   "metadata": {},
   "outputs": [],
   "source": [
    "import pandas as pd\n",
    "import numpy as np\n",
    "import yfinance as yf\n",
    "import matplotlib.pyplot as plt\n",
    "import seaborn as sns\n",
    "from datetime import datetime\n",
    "plt.style.use('dark_background')\n",
    "\n",
    "risk_free_rate = 0.045  # US 10-year Treasury yield, 2025"
   ]
  },
  {
   "cell_type": "markdown",
   "id": "76e15c25",
   "metadata": {},
   "source": [
    "## 2. Data Import & Ticker Groupings\n",
    "\n",
    "Define tickers and groupings for Layer 1s, DeFi, AI, NFTs, and more."
   ]
  },
  {
   "cell_type": "code",
   "execution_count": null,
   "id": "82a51f3d",
   "metadata": {},
   "outputs": [],
   "source": [
    "crypto_tickers = {\n",
    "    'Bitcoin': 'BTC-USD',\n",
    "    'Ethereum': 'ETH-USD',\n",
    "    'Solana': 'SOL-USD',\n",
    "    'Ripple': 'XRP-USD',\n",
    "    'Hedera': 'HBAR-USD',\n",
    "    'Near Protocol': 'NEAR-USD',\n",
    "    'Cardano': 'ADA-USD',\n",
    "    'Avalanche': 'AVAX-USD',\n",
    "    'Polkadot': 'DOT-USD',\n",
    "    'Sui': 'SUI20947-USD',\n",
    "    'Chainlink': 'LINK-USD',\n",
    "    'Uniswap': 'UNI-USD',\n",
    "    'Aave': 'AAVE-USD',\n",
    "    'Bittensor': 'TAO22974-USD',\n",
    "    'Raydium': 'RAY-USD',\n",
    "    'Morpho': 'MORPHO-USD',\n",
    "    'Aerodrome': 'AERO-USD',\n",
    "    'Dogecoin': 'DOGE-USD',\n",
    "    'Bonk': 'BONK-USD',\n",
    "    'Pepe': 'PEPE-USD',\n",
    "    'Orca': 'ORCA-USD',\n",
    "    'Curve': 'CRV-USD',\n",
    "    'Drift': 'DRIFT-USD',\n",
    "    'Helium': 'HNT-USD',\n",
    "    'Fetch.ai': 'FET-USD',\n",
    "    'Grass': 'GRASS32956-USD',\n",
    "}\n",
    "\n",
    "crypto_groups = {\n",
    "    'Layer 1s': ['BTC-USD', 'ETH-USD', 'SOL-USD', 'AVAX-USD', 'DOT-USD', 'ADA-USD', 'NEAR-USD', 'SUI20947-USD', 'HBAR-USD'],\n",
    "    'DeFi': ['UNI-USD', 'AAVE-USD', 'RAY-USD', 'MORPHO-USD', 'AERO-USD', 'CRV-USD', 'ORCA-USD', 'DRIFT-USD'],\n",
    "    'AI': ['FET-USD', 'TAO22974-USD', 'GRASS32956-USD'],\n",
    "    'NFTs/Metaverse': ['BONK-USD', 'PEPE-USD', 'DOGE-USD'],\n",
    "    'Oracles': ['LINK-USD'],\n",
    "    'Other': ['HNT-USD'],\n",
    "}\n",
    "\n",
    "start_date = '2021-01-01'\n",
    "end_date = datetime.today().strftime('%Y-%m-%d')\n",
    "prices = yf.download(list(crypto_tickers.values()), start=start_date, end=end_date)['Close']\n",
    "prices = prices.ffill().dropna(how='all')"
   ]
  },
  {
   "cell_type": "markdown",
   "id": "3a0b4779",
   "metadata": {},
   "source": [
    "## 3. Risk/Return Analysis (Sharpe Ratios)\n",
    "\n",
    "Calculate annualized return, volatility, and Sharpe ratio for each crypto. Sort by Sharpe ratio."
   ]
  },
  {
   "cell_type": "code",
   "execution_count": null,
   "id": "788be235",
   "metadata": {},
   "outputs": [],
   "source": [
    "returns = prices.pct_change().dropna()\n",
    "ann_return = returns.mean() * 252\n",
    "ann_vol = returns.std() * np.sqrt(252)\n",
    "sharpe = (ann_return - risk_free_rate) / ann_vol\n",
    "sharpe_table = pd.DataFrame({'Ann. Return': ann_return, 'Ann. Volatility': ann_vol, 'Sharpe Ratio': sharpe})\n",
    "sharpe_table = sharpe_table.sort_values('Sharpe Ratio', ascending=False)\n",
    "display(sharpe_table.style.format('{:.2%}', subset=['Ann. Return', 'Ann. Volatility']).format('{:.2f}', subset=['Sharpe Ratio']))"
   ]
  },
  {
   "cell_type": "markdown",
   "id": "ab937870",
   "metadata": {},
   "source": [
    "## 4. Price vs. All-Time High (ATH)\n",
    "\n",
    "Calculate and plot the current price as a percentage of its all-time high for each crypto."
   ]
  },
  {
   "cell_type": "code",
   "execution_count": null,
   "id": "fd2b6739",
   "metadata": {},
   "outputs": [],
   "source": [
    "ath = prices.max()\n",
    "current = prices.iloc[-1]\n",
    "ath_pct = (current / ath * 100).sort_values(ascending=False)\n",
    "ath_table = pd.DataFrame({'Current Price': current, 'ATH': ath, 'Current/ATH (%)': ath_pct})\n",
    "display(ath_table.sort_values('Current/ATH (%)', ascending=False))\n",
    "plt.figure(figsize=(12,6))\n",
    "ath_pct.plot(kind='bar', color='skyblue')\n",
    "plt.title('Current Price as % of All-Time High')\n",
    "plt.ylabel('% of ATH')\n",
    "plt.tight_layout()\n",
    "plt.show()"
   ]
  },
  {
   "cell_type": "markdown",
   "id": "1c536583",
   "metadata": {},
   "source": [
    "## 5. Dominance Metrics (BTC, ETH, etc.)\n",
    "\n",
    "Visualize Bitcoin dominance, Ethereum dominance (ex-Bitcoin), and group dominance over time."
   ]
  },
  {
   "cell_type": "code",
   "execution_count": null,
   "id": "67fbe6b7",
   "metadata": {},
   "outputs": [],
   "source": [
    "# Calculate market cap proxies (using price only, for demo)\n",
    "market_caps = prices * 1  # Replace with real market cap data if available\n",
    "btc_dominance = prices['BTC-USD'] / prices.sum(axis=1)\n",
    "eth_dominance = prices['ETH-USD'] / (prices.sum(axis=1) - prices['BTC-USD'])\n",
    "plt.figure(figsize=(14,6))\n",
    "btc_dominance.plot(label='BTC Dominance')\n",
    "eth_dominance.plot(label='ETH Dominance ex-BTC')\n",
    "plt.title('Bitcoin & Ethereum Dominance')\n",
    "plt.ylabel('Dominance (%)')\n",
    "plt.legend()\n",
    "plt.tight_layout()\n",
    "plt.show()"
   ]
  },
  {
   "cell_type": "markdown",
   "id": "d018df65",
   "metadata": {},
   "source": [
    "## 6. Functional Group Analysis\n",
    "\n",
    "Aggregate and plot performance by group (Layer 1s, DeFi, AI, etc.)."
   ]
  },
  {
   "cell_type": "code",
   "execution_count": null,
   "id": "f8399964",
   "metadata": {},
   "outputs": [],
   "source": [
    "# Group performance (equal-weighted)\n",
    "group_perf = {}\n",
    "for group, tickers in crypto_groups.items():\n",
    "    valid = [t for t in tickers if t in prices.columns]\n",
    "    if valid:\n",
    "        group_perf[group] = (prices[valid].mean(axis=1) / prices[valid].mean(axis=1).iloc[0])\n",
    "pd.DataFrame(group_perf).plot(figsize=(14,7))\n",
    "plt.title('Group Performance (Normalized)')\n",
    "plt.ylabel('Growth (since 2021)')\n",
    "plt.tight_layout()\n",
    "plt.show()"
   ]
  },
  {
   "cell_type": "markdown",
   "id": "49705dd2",
   "metadata": {},
   "source": [
    "## 7. Advanced Visualizations\n",
    "\n",
    "Rolling Sharpe ratios, volatility, and drawdowns for top cryptos."
   ]
  },
  {
   "cell_type": "code",
   "execution_count": null,
   "id": "26370ff2",
   "metadata": {},
   "outputs": [],
   "source": [
    "# Rolling Sharpe ratio (90-day)\n",
    "rolling_sharpe = (returns.rolling(90).mean() - risk_free_rate/252) / returns.rolling(90).std() * np.sqrt(252)\n",
    "plt.figure(figsize=(14,7))\n",
    "for t in ['BTC-USD', 'ETH-USD', 'SOL-USD', 'AVAX-USD']:\n",
    "    if t in rolling_sharpe.columns:\n",
    "        rolling_sharpe[t].plot(label=t)\n",
    "plt.title('90-Day Rolling Sharpe Ratio')\n",
    "plt.legend()\n",
    "plt.tight_layout()\n",
    "plt.show()"
   ]
  },
  {
   "cell_type": "code",
   "execution_count": null,
   "id": "3ca636bf",
   "metadata": {},
   "outputs": [],
   "source": [
    "# Drawdown plot for top cryptos\n",
    "def drawdown(prices):\n",
    "    roll_max = prices.cummax()\n",
    "    return prices / roll_max - 1\n",
    "plt.figure(figsize=(14,7))\n",
    "for t in ['BTC-USD', 'ETH-USD', 'SOL-USD', 'AVAX-USD']:\n",
    "    if t in prices.columns:\n",
    "        dd = drawdown(prices[t])\n",
    "        dd.plot(label=t)\n",
    "plt.title('Drawdown (from ATH)')\n",
    "plt.ylabel('Drawdown')\n",
    "plt.legend()\n",
    "plt.tight_layout()\n",
    "plt.show()"
   ]
  },
  {
   "cell_type": "markdown",
   "id": "8ad7e1ef",
   "metadata": {},
   "source": [
    "## 8. Insights & Recommendations\n",
    "\n",
    "- Sharpe ratios highlight which cryptos have delivered the best risk-adjusted returns recently.\n",
    "- Most cryptos are well below their all-time highs, indicating potential for mean reversion or continued risk.\n",
    "- Bitcoin remains dominant, but Layer 1s and AI coins are gaining traction.\n",
    "- Diversify across functions, but size positions based on volatility and drawdown risk.\n",
    "- Use rolling Sharpe and drawdown analytics to inform tactical allocation and risk management."
   ]
  }
 ],
 "metadata": {
  "language_info": {
   "name": "python"
  }
 },
 "nbformat": 4,
 "nbformat_minor": 5
}
